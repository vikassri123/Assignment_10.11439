{
  "nbformat": 4,
  "nbformat_minor": 0,
  "metadata": {
    "colab": {
      "name": "Assignment_10.11439.ipynb",
      "version": "0.3.2",
      "provenance": [],
      "collapsed_sections": []
    },
    "kernelspec": {
      "display_name": "Python 3",
      "language": "python",
      "name": "python3"
    },
    "accelerator": "GPU"
  },
  "cells": [
    {
      "metadata": {
        "id": "I1N6Oj0JY8Me",
        "colab_type": "text"
      },
      "cell_type": "markdown",
      "source": [
        "# Task 1:"
      ]
    },
    {
      "metadata": {
        "id": "MfJzAV0GY8Mu",
        "colab_type": "text"
      },
      "cell_type": "markdown",
      "source": [
        "### 1. Blood glucose levels for obese patients have a mean of 100 with a standard deviation of 15. A researcher thinks that a diet high in raw cornstarch will have a positive effect on blood glucose levels. A sample of 36 patients who have tried the raw cornstarch diet have a mean glucose level of 108. Test the hypothesis that the raw cornstarch had an effect or not."
      ]
    },
    {
      "metadata": {
        "id": "gcZexWReY8M4",
        "colab_type": "code",
        "colab": {
          "base_uri": "https://localhost:8080/",
          "height": 130
        },
        "outputId": "20927375-1d82-467f-9412-6569bac808ef"
      },
      "cell_type": "code",
      "source": [
        "import scipy.stats as st\n",
        "\n",
        "print(\"Let H0: μ= 100,  Stating the hypothesis. Given, The population mean is 100.\")\n",
        "print(\"Let H1: μ > 100 \")\n",
        "\n",
        "significance_level = 0.05 #It is not given in the problem so let’s assume it as 5% (0.05).\n",
        "m = 100 #Given, Blood glucose levels for obese patients have a mean of 100. \n",
        "s = 15 #Given, Standard deviation of 15\n",
        "p = 36 #Given, A sample of 36 patients\n",
        "x = 108 #Given, Patients who have tried the raw cornstarch diet have a mean glucose level of 108.\n",
        "Z = (x-m)/(s/(p**0.5)) #Z-Score for this set of data\n",
        "p_value = st.norm.cdf(Z) # By looking at z- table, Probability of having value less than 108.\n",
        "p_value_comp = 1-p_value #Probability of having value more than or equals to 108.\n",
        "\n",
        "print(\"Probability of having value less than 108 is : \",p_value)\n",
        "print(\"Probability of having value more than or equals to 108 is: \",p_value_comp)\n",
        "print(\"Final conclusion===>\")\n",
        "if(p_value_comp < significance_level ):\n",
        "    print(\"Probability of having value more than or equals to 108 is less than \" +str(significance_level)+ \" so we will reject the Null hypothesis. There is raw cornstarch effect.\")\n",
        "else:\n",
        "    print(\"Probability of having value less than 108 is not less than \"+str(significance_level)+ \" so we will not reject the Null hypothesis. There is no raw cornstarch effect.\")\n",
        "    \n"
      ],
      "execution_count": 2,
      "outputs": [
        {
          "output_type": "stream",
          "text": [
            "Let H0: μ= 100,  Stating the hypothesis. Given, The population mean is 100.\n",
            "Let H1: μ > 100 \n",
            "Probability of having value less than 108 is :  0.9993128620620841\n",
            "Probability of having value more than or equals to 108 is:  0.0006871379379158604\n",
            "Final conclusion===>\n",
            "Probability of having value more than or equals to 108 is less than 0.05 so we will reject the Null hypothesis. There is raw cornstarch effect.\n"
          ],
          "name": "stdout"
        }
      ]
    },
    {
      "metadata": {
        "id": "xHTEa2DjY8Nu",
        "colab_type": "text"
      },
      "cell_type": "markdown",
      "source": [
        "### 2. In one state, 52% of the voters are Republicans, and 48% are Democrats. In a second state, 47% of the voters are Republicans, and 53% are Democrats. Suppose a simple random sample of 100 voters are surveyed from each state. What is the probability that the survey will show a greater percentage of Republican voters in the second state than in the first state?"
      ]
    },
    {
      "metadata": {
        "id": "T2MCSWEHY8N4",
        "colab_type": "code",
        "colab": {
          "base_uri": "https://localhost:8080/",
          "height": 338
        },
        "outputId": "1a32d8c1-4640-4fc0-a5de-130183356e02"
      },
      "cell_type": "code",
      "source": [
        "import scipy.stats as st\n",
        "print(\"Let, The proportion of Republican voters in the first state: P1\")\n",
        "print(\"Let, The proportion of Republican voters in the second state: P2\")\n",
        "print(\"Let, The proportion of Republican voters in the sample from the first state: p1\")\n",
        "print(\"Let, The proportion of Republican voters in the sample from the second state: p2\")\n",
        "print(\"Let, The number of voters sampled from the first state: n1\")\n",
        "print(\"Let, The number of voters sampled from the second state: n2\")\n",
        "\n",
        "P1 = 0.52 #The proportion of Republican voters in the first state.\n",
        "P2 = 0.47 #The proportion of Republican voters in the second state.\n",
        "\n",
        "print(\"Now,\")\n",
        "print(\"The proportion of Republican voters in the first state ( 52% ): P1  = 0.52\")\n",
        "print(\"The proportion of Republican voters in the second state ( 47% ): P2 = 0.47\") \n",
        "      \n",
        "n1 = 100 #The number of voters sampled from the first state (As given data in percentage).\n",
        "n2 = 100 #The number of voters sampled from the second state (As given data in percentage).\n",
        "      \n",
        "print(\"The number of voters sampled from the first state: n1 = 100\")\n",
        "print(\"The number of voters sampled from the second state: n2 = 100\")\n",
        "      \n",
        "md = P1-P2 #The mean of the difference in sample proportions: E(p1-p2) = P1-P2\n",
        "print(\"The mean of the difference in sample proportions: E(p1-p2) = P1-P2 =\",round(md,2))\n",
        "      \n",
        "sd = ((P1*(1-P1)/n1) + (P2*(1-P2)/n2))**0.5  #The standard deviation of the difference, σd = sqrt{[P1(1-P1)/n1] + [P2(1-P2)/n2]} \n",
        "print(\"The standard deviation of the difference, σd = sqrt{[P1(1-P1)/n1] + [P2(1-P2)/n2]}, σd =\",sd)\n",
        "\n",
        "#Finding the probability that p1-p2 is less than zero is equivalent to finding the probability that p1 is less than p2.\n",
        "print(\"Finding the probability that p1-p2 is less than zero is equivalent to finding the probability that p1 is less than p2.\")\n",
        "      \n",
        "Z =  (0-md)/sd #Finding Z-Score, z(p1-p2) using mean difference and calculated standard deviation\n",
        "print(\"Z-Score using mean difference and calculated standard deviation:\", Z)\n",
        "      \n",
        "p_value = st.norm.cdf(Z) #The probability of given z-score \n",
        "print(\"==========================================================Answer==========================================================\")\n",
        "print(\"The probability that the survey will show a greater percentage of Republican voters in the second state than in the first state is:\", round(p_value, 2))\n"
      ],
      "execution_count": 3,
      "outputs": [
        {
          "output_type": "stream",
          "text": [
            "Let, The proportion of Republican voters in the first state: P1\n",
            "Let, The proportion of Republican voters in the second state: P2\n",
            "Let, The proportion of Republican voters in the sample from the first state: p1\n",
            "Let, The proportion of Republican voters in the sample from the second state: p2\n",
            "Let, The number of voters sampled from the first state: n1\n",
            "Let, The number of voters sampled from the second state: n2\n",
            "Now,\n",
            "The proportion of Republican voters in the first state ( 52% ): P1  = 0.52\n",
            "The proportion of Republican voters in the second state ( 47% ): P2 = 0.47\n",
            "The number of voters sampled from the first state: n1 = 100\n",
            "The number of voters sampled from the second state: n2 = 100\n",
            "The mean of the difference in sample proportions: E(p1-p2) = P1-P2 = 0.05\n",
            "The standard deviation of the difference, σd = sqrt{[P1(1-P1)/n1] + [P2(1-P2)/n2]}, σd = 0.07061869440877536\n",
            "Finding the probability that p1-p2 is less than zero is equivalent to finding the probability that p1 is less than p2.\n",
            "Z-Score using mean difference and calculated standard deviation: -0.7080278164104213\n",
            "==========================================================Answer==========================================================\n",
            "The probability that the survey will show a greater percentage of Republican voters in the second state than in the first state is: 0.24\n"
          ],
          "name": "stdout"
        }
      ]
    },
    {
      "metadata": {
        "id": "vYYDJ19QY8OW",
        "colab_type": "text"
      },
      "cell_type": "markdown",
      "source": [
        "### 3. You take the SAT and score 1100. The mean score for the SAT is 1026 and the standard deviation is 209. How well did you score on the test compared to the average test taker?"
      ]
    },
    {
      "metadata": {
        "id": "Mwc2b9wdY8Oc",
        "colab_type": "code",
        "colab": {
          "base_uri": "https://localhost:8080/",
          "height": 74
        },
        "outputId": "0505b4a7-7b70-43a0-fb72-0145f1c0e375"
      },
      "cell_type": "code",
      "source": [
        "import scipy.stats as st\n",
        "m = 1026 #Given, The mean score for the SAT is 1026.\n",
        "s = 209 #Given, The standard deviation is 209.\n",
        "x = 1100 #Given, You take the SAT and score 1100.\n",
        "Z = (x-m)/s #Calculating Z - Score\n",
        "p_value = st.norm.cdf(Z) #The probability of given z-score\n",
        "print(\" Conclusion ==============>\")\n",
        "print(\"\\n I have scored higher than \" + str(p_value*100)+ \"% of test takers.\");"
      ],
      "execution_count": 2,
      "outputs": [
        {
          "output_type": "stream",
          "text": [
            " Conclusion ==============>\n",
            "\n",
            " I have scored higher than 63.835565843531896% of test takers.\n"
          ],
          "name": "stdout"
        }
      ]
    },
    {
      "metadata": {
        "id": "g_yxgkjLY8O4",
        "colab_type": "text"
      },
      "cell_type": "markdown",
      "source": [
        "# Task 2:"
      ]
    },
    {
      "metadata": {
        "id": "pDdmHHMbY8O8",
        "colab_type": "text"
      },
      "cell_type": "markdown",
      "source": [
        "### 1. Is gender independent of education level? A random sample of 395 people were surveyed and each person was asked to report the highest education level they obtained. The data that resulted from the survey is summarized in the following table:\n",
        "<table>\n",
        "    <tr><th></th><th>High School</th> <th>Bachelors</th> <th>Masters</th> <th>Ph.d.</th> <th>Total</th></tr>\n",
        "    <tr><td>Female</td> <td>60</td> <td>54</td> <td>46</td> <td>41</td> <td>201</td></tr>\n",
        "    <tr><td>Male</td> <td>40</td> <td>44</td> <td>53</td> <td>57</td> <td>194</td></tr>\n",
        "    <tr><td>Total</td> <td>100</td> <td>98</td> <td>99</td> <td>98</td> <td>395</td></tr>\n",
        "</table>\n",
        "\n",
        "### Question: Are gender and education level dependent at 5% level of significance? In other words, given the data collected above, is there a relationship between the gender of an individual and the level of education that they have obtained?"
      ]
    },
    {
      "metadata": {
        "id": "OWJbCFJJY8PA",
        "colab_type": "code",
        "colab": {
          "base_uri": "https://localhost:8080/",
          "height": 339
        },
        "outputId": "d245ff80-7d26-461f-f0fe-1475b81d5453"
      },
      "cell_type": "code",
      "source": [
        "import scipy.stats as st\n",
        "\n",
        "print(\"Let, Null Hypothesis H0: Gender and education level independent at 5% level of significance\")\n",
        "print(\"Let, Alternate Hypothesis Ha: Gender and education level dependent at 5% level of significance\")\n",
        "\n",
        "female = [60, 54, 46, 41] #From given table\n",
        "male = [40, 44, 53, 57] #From given table\n",
        "\n",
        "female_total = 201 #From given table\n",
        "male_total = 194 #From given trom\n",
        "people_total = 395 #From given total\n",
        "edu_level_total = [100, 98, 99, 98] #From given table\n",
        "\n",
        "significance_level = 0.05 #Given, 5% level of significance\n",
        "\n",
        "sample_size = 4 #Given, Education levels: High School, Bachelors, Masters & Ph.d\n",
        "\n",
        "def calc_expected_values(comm_total_lst, seq_total, sample_len): #Calculates expected values \n",
        "    lst = []\n",
        "    for val in comm_total_lst:\n",
        "        lst.append(val*seq_total/sample_len)\n",
        "    return lst\n",
        "\n",
        "expected_female = calc_expected_values(edu_level_total,female_total,people_total) #Calculates expected values for female\n",
        "\n",
        "expected_male = calc_expected_values(edu_level_total,male_total,people_total) #Calculates expected values for male\n",
        "\n",
        "f_obs = female + male \n",
        "print(\"\\nF-Observed (From given table):\",f_obs)\n",
        "\n",
        "f_exp = expected_female + expected_male\n",
        "print(\"\\nF-Expected (Calculated from given table):\",f_exp)\n",
        "\n",
        "dof = sample_size - 1 #Degree of freedom of given data set\n",
        "\n",
        "chi_sq_calc = st.chisquare(f_obs,f_exp) #Calculated Chi-Square for given observed and expected values \n",
        "print(\"\\nChi-Square (Calculated using F-Observed and F-Expected):\",chi_sq_calc.statistic)\n",
        "\n",
        "chi_sq_critical = st.chi2.isf(q=significance_level, df=dof) #Calculates Chi-Square critical values \n",
        "print(\"\\nChi-Square Critical (Calculated using given significance level and degree of freedom):\",chi_sq_critical)\n",
        "\n",
        "#The critical value of Chi-Square with calculated degree of freedom is lesser than the calculated.Therefore we reject the null hypothesis and conclude that the education level depends on gender at a 5% level of significance.\n",
        "print(\"\\nIf the critical value of Chi-Square with calculated degree of freedom is lesser than the calculated. Therefore we reject the null hypothesis and conclude that the education level depends on gender at a 5% level of significance.\")\n",
        "\n",
        "print(\"\\n==========================================Answer==========================================\")\n",
        "if chi_sq_critical < chi_sq_calc.statistic:\n",
        "    print(\"\\nReject the null hypothesis and this concludes that the education level depends on gender at a 5% level of significance.\")\n",
        "else:\n",
        "    print(\"\\nNull hypothesis can not be rejected and this concludes that the education level does not depends on gender at a 5% level of significance.\")\n"
      ],
      "execution_count": 3,
      "outputs": [
        {
          "output_type": "stream",
          "text": [
            "Let, Null Hypothesis H0: Gender and education level independent at 5% level of significance\n",
            "Let, Alternate Hypothesis Ha: Gender and education level dependent at 5% level of significance\n",
            "\n",
            "F-Observed (From given table): [60, 54, 46, 41, 40, 44, 53, 57]\n",
            "\n",
            "F-Expected (Calculated from given table): [50.88607594936709, 49.868354430379746, 50.37721518987342, 49.868354430379746, 49.11392405063291, 48.131645569620254, 48.62278481012658, 48.131645569620254]\n",
            "\n",
            "Chi-Square (Calculated using F-Observed and F-Expected): 8.006066246262538\n",
            "\n",
            "Chi-Square Critical (Calculated using given significance level and degree of freedom): 7.814727903251178\n",
            "\n",
            "If the critical value of Chi-Square with calculated degree of freedom is lesser than the calculated. Therefore we reject the null hypothesis and conclude that the education level depends on gender at a 5% level of significance.\n",
            "\n",
            "==========================================Answer==========================================\n",
            "\n",
            "Reject the null hypothesis and this concludes that the education level depends on gender at a 5% level of significance.\n"
          ],
          "name": "stdout"
        }
      ]
    },
    {
      "metadata": {
        "id": "iDSKLqEJY8Pi",
        "colab_type": "text"
      },
      "cell_type": "markdown",
      "source": [
        "### 2. Using the following data, perform a oneway analysis of variance using α=.05. Write up the results in APA format.\n",
        "<p>[Group1: 51, 45, 33, 45, 67]</p>\n",
        "<p>[Group2: 23, 43, 23, 43, 45]</p>\n",
        "<p>[Group3: 56, 76, 74, 87, 56]</p>"
      ]
    },
    {
      "metadata": {
        "id": "dysVdHXlY8Po",
        "colab_type": "code",
        "colab": {
          "base_uri": "https://localhost:8080/",
          "height": 621
        },
        "outputId": "1bf5c0ba-4fa8-4487-fd58-841a83869f0b"
      },
      "cell_type": "code",
      "source": [
        "import scipy.stats as st\n",
        "import statistics as sts\n",
        "\n",
        "print(\"\\nLet, Null Hypothesis H0: μ1 = μ2 = μ3 \")\n",
        "print(\"\\nLet, Alternate Hypothesis Ha: μ1 ≠ μ2 ≠ μ3 \") \n",
        "\n",
        "print(\"\\nGiven, \\n[Group1: 51, 45, 33, 45, 67]\")\n",
        "print(\"\\n[Group2: 23, 43, 23, 43, 45]\")\n",
        "print(\"\\n[Group3: 56, 76, 74, 87, 56]\")\n",
        "    \n",
        "group_1 = [51, 45, 33, 45, 67] #Given, [Group1: 51, 45, 33, 45, 67]\n",
        "group_2 = [23, 43, 23, 43, 45] #Given, [Group2: 23, 43, 23, 43, 45]\n",
        "group_3 = [56, 76, 74, 87, 56] #Given, [Group3: 56, 76, 74, 87, 56]\n",
        "\n",
        "n = len(group_1) + len(group_2) + len(group_3) #Count of all the availabale data \n",
        "k = 3 #Given three group of samples\n",
        "significance_level = 0.05 #Given, using α=.05\n",
        "\n",
        "group_1_mean = sts.mean(group_1) #Mean value of Group1\n",
        "group_2_mean = sts.mean(group_2) #Mean value of Group2\n",
        "group_3_mean = sts.mean(group_3) #Mean value of Group3\n",
        "total_mean = sts.mean(group_1 + group_2 + group_3) ##Mean value of all the given groups\n",
        "\n",
        "dof_between = k-1 #Degree of freedom between\n",
        "print(\"\\nDegree of freedom between (dof_between):\",dof_between)\n",
        "\n",
        "dof_within= n-k #Degree of freedom within\n",
        "print(\"\\nDegree of freedom within (dof_within):\",dof_within)\n",
        "\n",
        "group_size = len(group_1) #From given group\n",
        "\n",
        "#Sum of Squares Between\n",
        "ss_between = (((group_1_mean-total_mean)**2) + ((group_2_mean-total_mean)**2) + ((group_3_mean-total_mean)**2)) * group_size\n",
        "print(\"\\nSum of Squares Between (ss_between):\",ss_between)\n",
        "\n",
        "ms_between = ss_between/dof_between #Mean Square Between\n",
        "print(\"\\nMean Square Between (ms_between = ss_between/dof_between):\",ms_between)\n",
        "\n",
        "def calc_sum_of_square(sequence, mean): #Calculates sum of squares for given sequence and mean.\n",
        "    sum_val = 0\n",
        "    for val in sequence:\n",
        "        sum_val += ((val-mean)**2)\n",
        "    return sum_val\n",
        "\n",
        "#Sum of Squares Within\n",
        "ss_within = calc_sum_of_square(group_1, group_1_mean) + calc_sum_of_square(group_2, group_2_mean) + calc_sum_of_square(group_3, group_3_mean)\n",
        "print(\"\\nSum of Squares Within (ss_within):\",ss_within)\n",
        "\n",
        "ms_within = ss_within/dof_within #Mean Square Within\n",
        "print(\"\\nMean Square Within (ms_within = ss_within/dof_within):\",ms_within) \n",
        "\n",
        "F_Calc = ms_between/ms_within #F-Satistic\n",
        "print(\"\\nF-Calculated (ms_between/ms_within):\",F_Calc)\n",
        "\n",
        "#Calculating F-Critical using given significance level and degree of freedom\n",
        "F_Critical = st.f.ppf(q=1-significance_level, dfn=dof_between, dfd=dof_within) \n",
        "print(\"\\nF-Critical:\",F_Critical)\n",
        "\n",
        "print(\"\\nIf the critical value of F from tables is less than the calculated value of F, reject the null hypothesis\")\n",
        "print(\"===============================================Answer===============================================\")\n",
        "if F_Critical < F_Calc:\n",
        "    print(\"\\nReject Null Hypothesis H0 and conclude that at least two of the means are significantly different from each other.\")\n",
        "else:\n",
        "    print(\"\\nNull Hypothesis H0 can not be rejected and conclude that all the means are equal.\")\n",
        "\n",
        "\n"
      ],
      "execution_count": 4,
      "outputs": [
        {
          "output_type": "stream",
          "text": [
            "\n",
            "Let, Null Hypothesis H0: μ1 = μ2 = μ3 \n",
            "\n",
            "Let, Alternate Hypothesis Ha: μ1 ≠ μ2 ≠ μ3 \n",
            "\n",
            "Given, \n",
            "[Group1: 51, 45, 33, 45, 67]\n",
            "\n",
            "[Group2: 23, 43, 23, 43, 45]\n",
            "\n",
            "[Group3: 56, 76, 74, 87, 56]\n",
            "\n",
            "Degree of freedom between (dof_between): 2\n",
            "\n",
            "Degree of freedom within (dof_within): 12\n",
            "\n",
            "Sum of Squares Between (ss_between): 3022.933333333333\n",
            "\n",
            "Mean Square Between (ms_between = ss_between/dof_between): 1511.4666666666665\n",
            "\n",
            "Sum of Squares Within (ss_within): 1860.8\n",
            "\n",
            "Mean Square Within (ms_within = ss_within/dof_within): 155.06666666666666\n",
            "\n",
            "F-Calculated (ms_between/ms_within): 9.747205503009457\n",
            "\n",
            "F-Critical: 3.8852938346523933\n",
            "\n",
            "If the critical value of F from tables is less than the calculated value of F, reject the null hypothesis\n",
            "===============================================Answer===============================================\n",
            "\n",
            "Reject Null Hypothesis H0 and conclude that at least two of the means are significantly different from each other.\n"
          ],
          "name": "stdout"
        }
      ]
    },
    {
      "metadata": {
        "id": "nXqbAQtgY8QI",
        "colab_type": "text"
      },
      "cell_type": "markdown",
      "source": [
        "### 3. Calculate F Test for given 10, 20, 30, 40, 50 and 5,10,15, 20, 25. \n",
        "<p>For 10, 20, 30, 40, 50 </p>"
      ]
    },
    {
      "metadata": {
        "id": "2ydeq3xHY8QK",
        "colab_type": "code",
        "colab": {
          "base_uri": "https://localhost:8080/",
          "height": 432
        },
        "outputId": "abcc926d-03ae-4893-864a-79ee2031b7eb"
      },
      "cell_type": "code",
      "source": [
        "import scipy.stats as st\n",
        "import statistics as sts\n",
        "print(\"Let, Null Hypothesis H0: No difference in variances.\") #Null Hypothesis, Ho: No difference in variances.\n",
        "print(\"Let, Alternate Hypothesis Ha: Difference in variances.\\n\") #Alternate Hypothesis, Ha: Difference in variances.\n",
        "\n",
        "lst_1 = [ 10, 20, 30, 40, 50] #Given data\n",
        "print(\"Given first data set:\",lst_1)\n",
        "\n",
        "lst_2 = [ 5, 10, 15, 20, 25] #Given data\n",
        "print(\"Given second data set:\",lst_2)\n",
        "\n",
        "var_1 = sts.variance(lst_1) #Variance of 10, 20, 30, 40, 50\n",
        "print(\"\\nVariance of 10, 20, 30, 40, 50 is (var_1):\",var_1)\n",
        "\n",
        "var_2 = sts.variance(lst_2) #Variance of 5, 10, 15, 20, 25\n",
        "print(\"Variance of 5, 10, 15, 20, 25 is (var_2):\", var_2)\n",
        "\n",
        "F_Test = var_1/var_2 #F Test = (variance of 10, 20, 30, 40, 50) / (variance of 5, 10, 15, 20, 25) \n",
        "print(\"\\nF-Test value of the given data sets (var_1/var_2):\",F_Test)\n",
        "\n",
        "dof_lst_1 = len(lst_1)-1 #Degrees of freedom 10, 20, 30, 40, 50\n",
        "print(\"\\nDegree of freedom of 10, 20, 30, 40, 50 is:\",dof_lst_1)\n",
        "\n",
        "dof_lst_2 = len(lst_2)-1 #Degrees of freedom 5, 10, 15, 20, 25\n",
        "print(\"\\nDegree of freedom of 5, 10, 15, 20, 25 is:\",dof_lst_2)\n",
        "\n",
        "significance_level = 0.05 #If not given, default alpha value = 0.05\n",
        "\n",
        "F_Critical = st.f.ppf(q=1-significance_level, dfn=dof_lst_1, dfd=dof_lst_2) # F-Table value using default alpha value = 0.05 and calculated degree of freedom\n",
        "print(\"\\nF-Critical value using default alpha (value = 0.05) is: \"+str(F_Critical))\n",
        "\n",
        "#If the F-Table value is smaller than the calculated value, you can reject the null hypothesis.\n",
        "print(\"\\nIf the F-Crtitical value is smaller than the calculated value, we can reject the null hypothesis.\")\n",
        "print(\"\\n Final Conclusion ====>\")\n",
        "\n",
        "if F_Critical < F_Test:\n",
        "    print(\"\\nNull hypothesis can be rejected.\")\n",
        "else:\n",
        "    print(\"\\nNull hypothesis can not be rejected.\")"
      ],
      "execution_count": 6,
      "outputs": [
        {
          "output_type": "stream",
          "text": [
            "Let, Null Hypothesis H0: No difference in variances.\n",
            "Let, Alternate Hypothesis Ha: Difference in variances.\n",
            "\n",
            "Given first data set: [10, 20, 30, 40, 50]\n",
            "Given second data set: [5, 10, 15, 20, 25]\n",
            "\n",
            "Variance of 10, 20, 30, 40, 50 is (var_1): 250\n",
            "Variance of 5, 10, 15, 20, 25 is (var_2): 62.5\n",
            "\n",
            "F-Test value of the given data sets (var_1/var_2): 4.0\n",
            "\n",
            "Degree of freedom of 10, 20, 30, 40, 50 is: 4\n",
            "\n",
            "Degree of freedom of 5, 10, 15, 20, 25 is: 4\n",
            "\n",
            "F-Critical value using default alpha (value = 0.05) is: 6.388232908695868\n",
            "\n",
            "If the F-Crtitical value is smaller than the calculated value, we can reject the null hypothesis.\n",
            "\n",
            " Final Conclusion ====>\n",
            "\n",
            "Null hypothesis can not be rejected.\n"
          ],
          "name": "stdout"
        }
      ]
    },
    {
      "metadata": {
        "id": "BksKAduXY8Qu",
        "colab_type": "code",
        "colab": {}
      },
      "cell_type": "code",
      "source": [
        ""
      ],
      "execution_count": 0,
      "outputs": []
    }
  ]
}